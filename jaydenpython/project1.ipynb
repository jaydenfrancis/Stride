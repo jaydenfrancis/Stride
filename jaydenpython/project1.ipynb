{
 "cells": [
  {
   "cell_type": "markdown",
   "metadata": {},
   "source": [
    "The following is an implimentation of 'Programming for Data Science' exercise number 2"
   ]
  },
  {
   "cell_type": "code",
   "execution_count": 44,
   "metadata": {},
   "outputs": [],
   "source": [
    "import pandas as pd\n",
    "import numpy as np\n",
    "data = pd.read_csv('houseelf_earlength_dna_data.csv')\n",
    "dataArray = np.array(data)"
   ]
  },
  {
   "cell_type": "markdown",
   "metadata": {},
   "source": [
    "we will now get into the body of the exercise: first we will determine if each ear length is large or small and create a catagorical array that contains this information."
   ]
  },
  {
   "cell_type": "code",
   "execution_count": 53,
   "metadata": {},
   "outputs": [
    {
     "name": "stdout",
     "output_type": "stream",
     "text": [
      "Catagorical array ['Small', 'Small', 'Large', 'Small', 'Small', 'Large', 'Small', 'Large', 'Small', 'Large']\n"
     ]
    }
   ],
   "source": [
    "earLengths = dataArray[:,1]\n",
    "CatagoricalArray = []\n",
    "for i in earLengths:\n",
    "    if i > 10:\n",
    "        CatagoricalArray.append('Large')\n",
    "    else:\n",
    "        CatagoricalArray.append('Small')\n",
    "\n",
    "print(\"Catagorical array\", CatagoricalArray)\n"
   ]
  },
  {
   "cell_type": "markdown",
   "metadata": {},
   "source": [
    "Next, we want to check the CG-content of each DNA sequence. lets make an array for this as well."
   ]
  },
  {
   "cell_type": "code",
   "execution_count": 70,
   "metadata": {},
   "outputs": [
    {
     "name": "stdout",
     "output_type": "stream",
     "text": [
      "CGArray: [41, 39, 57, 40, 36, 62, 52, 63, 47, 52]\n"
     ]
    },
    {
     "ename": "TypeError",
     "evalue": "'int' object is not callable",
     "output_type": "error",
     "traceback": [
      "\u001b[0;31m---------------------------------------------------------------------------\u001b[0m",
      "\u001b[0;31mTypeError\u001b[0m                                 Traceback (most recent call last)",
      "\u001b[1;32m/Users/jaydenfrancis/jaydenpython/project1.ipynb Cell 6'\u001b[0m in \u001b[0;36m<cell line: 13>\u001b[0;34m()\u001b[0m\n\u001b[1;32m     <a href='vscode-notebook-cell:/Users/jaydenfrancis/jaydenpython/project1.ipynb#ch0000010?line=11'>12</a>\u001b[0m lenArray \u001b[39m=\u001b[39m []\n\u001b[1;32m     <a href='vscode-notebook-cell:/Users/jaydenfrancis/jaydenpython/project1.ipynb#ch0000010?line=12'>13</a>\u001b[0m \u001b[39mfor\u001b[39;00m x \u001b[39min\u001b[39;00m DNA:\n\u001b[0;32m---> <a href='vscode-notebook-cell:/Users/jaydenfrancis/jaydenpython/project1.ipynb#ch0000010?line=13'>14</a>\u001b[0m     lenArray\u001b[39m.\u001b[39mappend(\u001b[39mlen\u001b[39;49m(x))\n",
      "\u001b[0;31mTypeError\u001b[0m: 'int' object is not callable"
     ]
    }
   ],
   "source": [
    "DNA = dataArray[:,2]\n",
    "CGArray = []\n",
    "count = 0\n",
    "for string in DNA:\n",
    "    for c in string:\n",
    "        if c == 'C' or c == 'G':\n",
    "            count += 1\n",
    "    CGArray.append(count)\n",
    "    count = 0\n",
    "\n",
    "print(\"CGArray:\", CGArray)\n",
    "lenArray\n",
    "for x in DNA:\n",
    "    lenArray.append(len(x))\n",
    "\n"
   ]
  }
 ],
 "metadata": {
  "interpreter": {
   "hash": "aee8b7b246df8f9039afb4144a1f6fd8d2ca17a180786b69acc140d282b71a49"
  },
  "kernelspec": {
   "display_name": "Python 3.10.4 64-bit",
   "language": "python",
   "name": "python3"
  },
  "language_info": {
   "codemirror_mode": {
    "name": "ipython",
    "version": 3
   },
   "file_extension": ".py",
   "mimetype": "text/x-python",
   "name": "python",
   "nbconvert_exporter": "python",
   "pygments_lexer": "ipython3",
   "version": "3.10.4"
  },
  "orig_nbformat": 4
 },
 "nbformat": 4,
 "nbformat_minor": 2
}
