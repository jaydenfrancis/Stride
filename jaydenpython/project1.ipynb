{
 "cells": [
  {
   "cell_type": "markdown",
   "metadata": {},
   "source": [
    "The following is an implimentation of 'Programming for Data Science' exercise number 2"
   ]
  },
  {
   "cell_type": "code",
   "execution_count": 4,
   "metadata": {},
   "outputs": [],
   "source": [
    "import pandas as pd\n",
    "import numpy as np\n",
    "data = pd.read_csv('houseelf_earlength_dna_data.csv')\n",
    "dataArray = np.array(data)"
   ]
  },
  {
   "cell_type": "code",
   "execution_count": null,
   "metadata": {},
   "outputs": [],
   "source": []
  },
  {
   "cell_type": "markdown",
   "metadata": {},
   "source": [
    "we will now get into the body of the exercise: first we will determine if each ear length is large or small and create a catagorical array that contains this information."
   ]
  },
  {
   "cell_type": "code",
   "execution_count": 5,
   "metadata": {},
   "outputs": [
    {
     "name": "stdout",
     "output_type": "stream",
     "text": [
      "Catagorical array ['Small', 'Small', 'Large', 'Small', 'Small', 'Large', 'Small', 'Large', 'Small', 'Large']\n"
     ]
    }
   ],
   "source": [
    "earLengths = dataArray[:,1]\n",
    "CatagoricalArray = []\n",
    "for i in earLengths:\n",
    "    if i > 10:\n",
    "        CatagoricalArray.append('Large')\n",
    "    else:\n",
    "        CatagoricalArray.append('Small')\n",
    "\n",
    "print(\"Catagorical array\", CatagoricalArray)\n"
   ]
  },
  {
   "cell_type": "markdown",
   "metadata": {},
   "source": [
    "Next, we want to check the CG-content of each DNA sequence. lets make an array for this as well."
   ]
  },
  {
   "cell_type": "code",
   "execution_count": 6,
   "metadata": {},
   "outputs": [
    {
     "name": "stdout",
     "output_type": "stream",
     "text": [
      "[41, 39, 57, 40, 36, 62, 52, 63, 47, 52]\n"
     ]
    }
   ],
   "source": [
    "DNA = dataArray[:,2]\n",
    "CGArray = []\n",
    "count = 0\n",
    "for string in DNA:\n",
    "    for c in string:\n",
    "        if c == 'C' or c == 'G':\n",
    "            count += 1\n",
    "    CGArray.append(count)\n",
    "    count = 0\n",
    "\n",
    "print(CGArray)\n",
    "\n",
    "\n",
    "\n",
    "\n",
    "\n",
    "\n"
   ]
  },
  {
   "cell_type": "markdown",
   "metadata": {},
   "source": [
    "Now we will store this information in a table where the first column has the ID for the individual, the second column contains the string ‘large’ or the string ‘small’ depending on the size of the individuals ears, and the third column contains the GC content of the DNA sequence"
   ]
  },
  {
   "cell_type": "code",
   "execution_count": 7,
   "metadata": {},
   "outputs": [
    {
     "name": "stdout",
     "output_type": "stream",
     "text": [
      "    ID Large/small  CG content\n",
      "0  17A       Small          41\n",
      "1  24P       Small          39\n",
      "2  09Q       Large          57\n",
      "3  65Y       Small          40\n",
      "4  19N       Small          36\n",
      "5  92K       Large          62\n",
      "6  33W       Small          52\n",
      "7  98C       Large          63\n",
      "8  75G       Small          47\n",
      "9  88Q       Large          52\n"
     ]
    }
   ],
   "source": [
    "ID = dataArray[:,0]\n",
    "newData = {'ID': ID, 'Large/small': CatagoricalArray, \"CG content\": CGArray}\n",
    "newDataFrame = pd.DataFrame(data=newData)\n",
    "newDataArray = np.array(newDataFrame)\n",
    "print(newDataFrame)\n"
   ]
  },
  {
   "cell_type": "markdown",
   "metadata": {},
   "source": [
    "Now lets print the average GC-content for both large-eared elves and small-eared elves to the screen."
   ]
  },
  {
   "cell_type": "code",
   "execution_count": 8,
   "metadata": {},
   "outputs": [
    {
     "name": "stdout",
     "output_type": "stream",
     "text": [
      "largeavg: 0.017094017094017096 smallavg: 0.023529411764705882\n"
     ]
    }
   ],
   "source": [
    "smalltot = 0\n",
    "largetot = 0\n",
    "smallcount = 0\n",
    "largecount = 0\n",
    "newDataArray[1:2]\n",
    "for i in range(10):\n",
    "    if newDataArray[i][1] == 'Small':\n",
    "        smalltot += newDataArray[i][2]\n",
    "        smallcount += 1\n",
    "    else:\n",
    "        largetot += newDataArray[i][2]\n",
    "        largecount += 1\n",
    "\n",
    "print(\"largeavg:\", largecount/largetot, \"smallavg:\", smallcount/smalltot)"
   ]
  }
 ],
 "metadata": {
  "interpreter": {
   "hash": "aee8b7b246df8f9039afb4144a1f6fd8d2ca17a180786b69acc140d282b71a49"
  },
  "kernelspec": {
   "display_name": "Python 3.10.4 64-bit",
   "language": "python",
   "name": "python3"
  },
  "language_info": {
   "codemirror_mode": {
    "name": "ipython",
    "version": 3
   },
   "file_extension": ".py",
   "mimetype": "text/x-python",
   "name": "python",
   "nbconvert_exporter": "python",
   "pygments_lexer": "ipython3",
   "version": "3.10.4"
  },
  "orig_nbformat": 4
 },
 "nbformat": 4,
 "nbformat_minor": 2
}
